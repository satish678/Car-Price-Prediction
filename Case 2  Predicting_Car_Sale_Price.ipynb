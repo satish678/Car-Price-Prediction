{
 "cells": [
  {
   "cell_type": "markdown",
   "metadata": {},
   "source": [
    "# Predicting car price using LinearRegression"
   ]
  },
  {
   "cell_type": "markdown",
   "metadata": {},
   "source": [
    "## Case 2 : Applying LabelEncoder() on categorial variables and considering all the features¶"
   ]
  },
  {
   "cell_type": "markdown",
   "metadata": {},
   "source": [
    "### model performance good on train set compared to test set "
   ]
  },
  {
   "cell_type": "code",
   "execution_count": 2,
   "metadata": {},
   "outputs": [],
   "source": [
    "import pandas as pd\n",
    "import numpy as np\n",
    "from sklearn.preprocessing import LabelEncoder\n",
    "from sklearn.linear_model import LinearRegression\n",
    "from sklearn.metrics import mean_squared_error"
   ]
  },
  {
   "cell_type": "code",
   "execution_count": 3,
   "metadata": {},
   "outputs": [],
   "source": [
    "from sklearn.model_selection import train_test_split"
   ]
  },
  {
   "cell_type": "code",
   "execution_count": 4,
   "metadata": {},
   "outputs": [],
   "source": [
    "import seaborn as sns\n",
    "import matplotlib.pyplot as plt"
   ]
  },
  {
   "cell_type": "code",
   "execution_count": 5,
   "metadata": {},
   "outputs": [],
   "source": [
    "%matplotlib inline"
   ]
  },
  {
   "cell_type": "code",
   "execution_count": 6,
   "metadata": {},
   "outputs": [],
   "source": [
    "data = pd.read_csv('https://archive.ics.uci.edu/ml/machine-learning-databases/autos/imports-85.data',header=0)"
   ]
  },
  {
   "cell_type": "code",
   "execution_count": 7,
   "metadata": {},
   "outputs": [],
   "source": [
    "features = ['symboling','normalized_losses','make','fuel_type','aspiration','num_of_doors','body_style','drive_wheels','engine_location','wheel_base','length','width','height','curb_weight','engine_type','num_of_cylinders','engine_size','fuel_system','bore','stroke','compression_ratio','horsepower','peak_rpm','city_mpg','highway_mpg','price']"
   ]
  },
  {
   "cell_type": "code",
   "execution_count": 8,
   "metadata": {},
   "outputs": [],
   "source": [
    "data.columns = features"
   ]
  },
  {
   "cell_type": "code",
   "execution_count": 9,
   "metadata": {},
   "outputs": [
    {
     "data": {
      "text/plain": [
       "Int64Index([8, 43, 44, 128], dtype='int64')"
      ]
     },
     "execution_count": 9,
     "metadata": {},
     "output_type": "execute_result"
    }
   ],
   "source": [
    "data.index[data.price=='?']"
   ]
  },
  {
   "cell_type": "code",
   "execution_count": 10,
   "metadata": {},
   "outputs": [],
   "source": [
    "data.drop(data.index[data.price=='?'],axis=0,inplace=True)"
   ]
  },
  {
   "cell_type": "code",
   "execution_count": 11,
   "metadata": {},
   "outputs": [],
   "source": [
    "data.replace('?',np.NaN,inplace=True)"
   ]
  },
  {
   "cell_type": "code",
   "execution_count": 12,
   "metadata": {},
   "outputs": [],
   "source": [
    "to_float_cols = ['normalized_losses','curb_weight','engine_size','bore','stroke','horsepower','peak_rpm','city_mpg','highway_mpg','price']"
   ]
  },
  {
   "cell_type": "code",
   "execution_count": 13,
   "metadata": {},
   "outputs": [],
   "source": [
    "for c in to_float_cols:\n",
    "    data[c] = data[[c]].apply(pd.to_numeric,axis=1,errors='coerce')"
   ]
  },
  {
   "cell_type": "code",
   "execution_count": 14,
   "metadata": {},
   "outputs": [],
   "source": [
    "data = data.apply(lambda x:x.fillna(x.value_counts().index[0]))"
   ]
  },
  {
   "cell_type": "code",
   "execution_count": 15,
   "metadata": {},
   "outputs": [],
   "source": [
    "#encoder = LabelEncoder()"
   ]
  },
  {
   "cell_type": "code",
   "execution_count": 16,
   "metadata": {},
   "outputs": [],
   "source": [
    "#mylist = list(data.select_dtypes(include=['object']).columns)"
   ]
  },
  {
   "cell_type": "code",
   "execution_count": 17,
   "metadata": {},
   "outputs": [],
   "source": [
    "#encoded_objects = encoder.fit_transform(mylist)"
   ]
  },
  {
   "cell_type": "code",
   "execution_count": 18,
   "metadata": {},
   "outputs": [],
   "source": [
    "#data = data.apply(LabelEncoder().fit_transform)"
   ]
  },
  {
   "cell_type": "code",
   "execution_count": 19,
   "metadata": {},
   "outputs": [
    {
     "data": {
      "text/html": [
       "<div>\n",
       "<style scoped>\n",
       "    .dataframe tbody tr th:only-of-type {\n",
       "        vertical-align: middle;\n",
       "    }\n",
       "\n",
       "    .dataframe tbody tr th {\n",
       "        vertical-align: top;\n",
       "    }\n",
       "\n",
       "    .dataframe thead th {\n",
       "        text-align: right;\n",
       "    }\n",
       "</style>\n",
       "<table border=\"1\" class=\"dataframe\">\n",
       "  <thead>\n",
       "    <tr style=\"text-align: right;\">\n",
       "      <th></th>\n",
       "      <th>symboling</th>\n",
       "      <th>normalized_losses</th>\n",
       "      <th>wheel_base</th>\n",
       "      <th>length</th>\n",
       "      <th>width</th>\n",
       "      <th>height</th>\n",
       "      <th>curb_weight</th>\n",
       "      <th>engine_size</th>\n",
       "      <th>bore</th>\n",
       "      <th>stroke</th>\n",
       "      <th>compression_ratio</th>\n",
       "      <th>horsepower</th>\n",
       "      <th>peak_rpm</th>\n",
       "      <th>city_mpg</th>\n",
       "      <th>highway_mpg</th>\n",
       "      <th>price</th>\n",
       "    </tr>\n",
       "  </thead>\n",
       "  <tbody>\n",
       "    <tr>\n",
       "      <th>count</th>\n",
       "      <td>200.000000</td>\n",
       "      <td>200.000000</td>\n",
       "      <td>200.000000</td>\n",
       "      <td>200.000000</td>\n",
       "      <td>200.000000</td>\n",
       "      <td>200.000000</td>\n",
       "      <td>200.000000</td>\n",
       "      <td>200.000000</td>\n",
       "      <td>200.000000</td>\n",
       "      <td>200.000000</td>\n",
       "      <td>200.000000</td>\n",
       "      <td>200.000000</td>\n",
       "      <td>200.000000</td>\n",
       "      <td>200.000000</td>\n",
       "      <td>200.000000</td>\n",
       "      <td>200.000000</td>\n",
       "    </tr>\n",
       "    <tr>\n",
       "      <th>mean</th>\n",
       "      <td>0.830000</td>\n",
       "      <td>129.020000</td>\n",
       "      <td>98.848000</td>\n",
       "      <td>174.228000</td>\n",
       "      <td>65.898000</td>\n",
       "      <td>53.791500</td>\n",
       "      <td>2555.705000</td>\n",
       "      <td>126.860000</td>\n",
       "      <td>3.335800</td>\n",
       "      <td>3.262650</td>\n",
       "      <td>10.170100</td>\n",
       "      <td>103.005000</td>\n",
       "      <td>5115.000000</td>\n",
       "      <td>25.200000</td>\n",
       "      <td>30.705000</td>\n",
       "      <td>13205.690000</td>\n",
       "    </tr>\n",
       "    <tr>\n",
       "      <th>std</th>\n",
       "      <td>1.248557</td>\n",
       "      <td>35.419377</td>\n",
       "      <td>6.038261</td>\n",
       "      <td>12.347132</td>\n",
       "      <td>2.102904</td>\n",
       "      <td>2.428449</td>\n",
       "      <td>518.594552</td>\n",
       "      <td>41.650501</td>\n",
       "      <td>0.271629</td>\n",
       "      <td>0.314792</td>\n",
       "      <td>4.014163</td>\n",
       "      <td>37.621161</td>\n",
       "      <td>480.289904</td>\n",
       "      <td>6.432487</td>\n",
       "      <td>6.827227</td>\n",
       "      <td>7966.982558</td>\n",
       "    </tr>\n",
       "    <tr>\n",
       "      <th>min</th>\n",
       "      <td>-2.000000</td>\n",
       "      <td>65.000000</td>\n",
       "      <td>86.600000</td>\n",
       "      <td>141.100000</td>\n",
       "      <td>60.300000</td>\n",
       "      <td>47.800000</td>\n",
       "      <td>1488.000000</td>\n",
       "      <td>61.000000</td>\n",
       "      <td>2.540000</td>\n",
       "      <td>2.070000</td>\n",
       "      <td>7.000000</td>\n",
       "      <td>48.000000</td>\n",
       "      <td>4150.000000</td>\n",
       "      <td>13.000000</td>\n",
       "      <td>16.000000</td>\n",
       "      <td>5118.000000</td>\n",
       "    </tr>\n",
       "    <tr>\n",
       "      <th>25%</th>\n",
       "      <td>0.000000</td>\n",
       "      <td>100.250000</td>\n",
       "      <td>94.500000</td>\n",
       "      <td>166.675000</td>\n",
       "      <td>64.175000</td>\n",
       "      <td>52.000000</td>\n",
       "      <td>2163.000000</td>\n",
       "      <td>97.750000</td>\n",
       "      <td>3.150000</td>\n",
       "      <td>3.117500</td>\n",
       "      <td>8.575000</td>\n",
       "      <td>70.000000</td>\n",
       "      <td>4800.000000</td>\n",
       "      <td>19.000000</td>\n",
       "      <td>25.000000</td>\n",
       "      <td>7775.000000</td>\n",
       "    </tr>\n",
       "    <tr>\n",
       "      <th>50%</th>\n",
       "      <td>1.000000</td>\n",
       "      <td>128.000000</td>\n",
       "      <td>97.000000</td>\n",
       "      <td>173.200000</td>\n",
       "      <td>65.500000</td>\n",
       "      <td>54.100000</td>\n",
       "      <td>2414.000000</td>\n",
       "      <td>119.500000</td>\n",
       "      <td>3.310000</td>\n",
       "      <td>3.290000</td>\n",
       "      <td>9.000000</td>\n",
       "      <td>95.000000</td>\n",
       "      <td>5150.000000</td>\n",
       "      <td>24.000000</td>\n",
       "      <td>30.000000</td>\n",
       "      <td>10270.000000</td>\n",
       "    </tr>\n",
       "    <tr>\n",
       "      <th>75%</th>\n",
       "      <td>2.000000</td>\n",
       "      <td>161.000000</td>\n",
       "      <td>102.400000</td>\n",
       "      <td>183.500000</td>\n",
       "      <td>66.675000</td>\n",
       "      <td>55.525000</td>\n",
       "      <td>2928.250000</td>\n",
       "      <td>142.000000</td>\n",
       "      <td>3.602500</td>\n",
       "      <td>3.410000</td>\n",
       "      <td>9.400000</td>\n",
       "      <td>116.000000</td>\n",
       "      <td>5500.000000</td>\n",
       "      <td>30.000000</td>\n",
       "      <td>34.000000</td>\n",
       "      <td>16500.750000</td>\n",
       "    </tr>\n",
       "    <tr>\n",
       "      <th>max</th>\n",
       "      <td>3.000000</td>\n",
       "      <td>256.000000</td>\n",
       "      <td>120.900000</td>\n",
       "      <td>208.100000</td>\n",
       "      <td>72.000000</td>\n",
       "      <td>59.800000</td>\n",
       "      <td>4066.000000</td>\n",
       "      <td>326.000000</td>\n",
       "      <td>3.940000</td>\n",
       "      <td>4.170000</td>\n",
       "      <td>23.000000</td>\n",
       "      <td>262.000000</td>\n",
       "      <td>6600.000000</td>\n",
       "      <td>49.000000</td>\n",
       "      <td>54.000000</td>\n",
       "      <td>45400.000000</td>\n",
       "    </tr>\n",
       "  </tbody>\n",
       "</table>\n",
       "</div>"
      ],
      "text/plain": [
       "        symboling  normalized_losses  wheel_base      length       width  \\\n",
       "count  200.000000         200.000000  200.000000  200.000000  200.000000   \n",
       "mean     0.830000         129.020000   98.848000  174.228000   65.898000   \n",
       "std      1.248557          35.419377    6.038261   12.347132    2.102904   \n",
       "min     -2.000000          65.000000   86.600000  141.100000   60.300000   \n",
       "25%      0.000000         100.250000   94.500000  166.675000   64.175000   \n",
       "50%      1.000000         128.000000   97.000000  173.200000   65.500000   \n",
       "75%      2.000000         161.000000  102.400000  183.500000   66.675000   \n",
       "max      3.000000         256.000000  120.900000  208.100000   72.000000   \n",
       "\n",
       "           height  curb_weight  engine_size        bore      stroke  \\\n",
       "count  200.000000   200.000000   200.000000  200.000000  200.000000   \n",
       "mean    53.791500  2555.705000   126.860000    3.335800    3.262650   \n",
       "std      2.428449   518.594552    41.650501    0.271629    0.314792   \n",
       "min     47.800000  1488.000000    61.000000    2.540000    2.070000   \n",
       "25%     52.000000  2163.000000    97.750000    3.150000    3.117500   \n",
       "50%     54.100000  2414.000000   119.500000    3.310000    3.290000   \n",
       "75%     55.525000  2928.250000   142.000000    3.602500    3.410000   \n",
       "max     59.800000  4066.000000   326.000000    3.940000    4.170000   \n",
       "\n",
       "       compression_ratio  horsepower     peak_rpm    city_mpg  highway_mpg  \\\n",
       "count         200.000000  200.000000   200.000000  200.000000   200.000000   \n",
       "mean           10.170100  103.005000  5115.000000   25.200000    30.705000   \n",
       "std             4.014163   37.621161   480.289904    6.432487     6.827227   \n",
       "min             7.000000   48.000000  4150.000000   13.000000    16.000000   \n",
       "25%             8.575000   70.000000  4800.000000   19.000000    25.000000   \n",
       "50%             9.000000   95.000000  5150.000000   24.000000    30.000000   \n",
       "75%             9.400000  116.000000  5500.000000   30.000000    34.000000   \n",
       "max            23.000000  262.000000  6600.000000   49.000000    54.000000   \n",
       "\n",
       "              price  \n",
       "count    200.000000  \n",
       "mean   13205.690000  \n",
       "std     7966.982558  \n",
       "min     5118.000000  \n",
       "25%     7775.000000  \n",
       "50%    10270.000000  \n",
       "75%    16500.750000  \n",
       "max    45400.000000  "
      ]
     },
     "execution_count": 19,
     "metadata": {},
     "output_type": "execute_result"
    }
   ],
   "source": [
    "data.describe()"
   ]
  },
  {
   "cell_type": "code",
   "execution_count": 20,
   "metadata": {},
   "outputs": [
    {
     "name": "stderr",
     "output_type": "stream",
     "text": [
      "C:\\Users\\Satish\\Anaconda3\\lib\\site-packages\\matplotlib\\axes\\_axes.py:6462: UserWarning: The 'normed' kwarg is deprecated, and has been replaced by the 'density' kwarg.\n",
      "  warnings.warn(\"The 'normed' kwarg is deprecated, and has been \"\n"
     ]
    },
    {
     "data": {
      "text/plain": [
       "<matplotlib.axes._subplots.AxesSubplot at 0x1f360261828>"
      ]
     },
     "execution_count": 20,
     "metadata": {},
     "output_type": "execute_result"
    },
    {
     "data": {
      "image/png": "[encoded data removed]",
      "text/plain": [
       "<Figure size 432x288 with 1 Axes>"
      ]
     },
     "metadata": {},
     "output_type": "display_data"
    }
   ],
   "source": [
    "sns.distplot( data.highway_mpg )"
   ]
  },
  {
   "cell_type": "code",
   "execution_count": 21,
   "metadata": {},
   "outputs": [
    {
     "data": {
      "text/html": [
       "<div>\n",
       "<style scoped>\n",
       "    .dataframe tbody tr th:only-of-type {\n",
       "        vertical-align: middle;\n",
       "    }\n",
       "\n",
       "    .dataframe tbody tr th {\n",
       "        vertical-align: top;\n",
       "    }\n",
       "\n",
       "    .dataframe thead th {\n",
       "        text-align: right;\n",
       "    }\n",
       "</style>\n",
       "<table border=\"1\" class=\"dataframe\">\n",
       "  <thead>\n",
       "    <tr style=\"text-align: right;\">\n",
       "      <th></th>\n",
       "      <th>symboling</th>\n",
       "      <th>normalized_losses</th>\n",
       "      <th>wheel_base</th>\n",
       "      <th>length</th>\n",
       "      <th>width</th>\n",
       "      <th>height</th>\n",
       "      <th>curb_weight</th>\n",
       "      <th>engine_size</th>\n",
       "      <th>bore</th>\n",
       "      <th>stroke</th>\n",
       "      <th>compression_ratio</th>\n",
       "      <th>horsepower</th>\n",
       "      <th>peak_rpm</th>\n",
       "      <th>city_mpg</th>\n",
       "      <th>highway_mpg</th>\n",
       "      <th>price</th>\n",
       "    </tr>\n",
       "  </thead>\n",
       "  <tbody>\n",
       "    <tr>\n",
       "      <th>symboling</th>\n",
       "      <td>1.000000</td>\n",
       "      <td>0.452557</td>\n",
       "      <td>-0.529145</td>\n",
       "      <td>-0.364511</td>\n",
       "      <td>-0.237262</td>\n",
       "      <td>-0.542261</td>\n",
       "      <td>-0.234743</td>\n",
       "      <td>-0.112069</td>\n",
       "      <td>-0.106724</td>\n",
       "      <td>0.023782</td>\n",
       "      <td>-0.181073</td>\n",
       "      <td>0.072979</td>\n",
       "      <td>0.282484</td>\n",
       "      <td>-0.030158</td>\n",
       "      <td>0.041248</td>\n",
       "      <td>-0.083327</td>\n",
       "    </tr>\n",
       "    <tr>\n",
       "      <th>normalized_losses</th>\n",
       "      <td>0.452557</td>\n",
       "      <td>1.000000</td>\n",
       "      <td>0.051106</td>\n",
       "      <td>0.163820</td>\n",
       "      <td>0.207871</td>\n",
       "      <td>-0.335627</td>\n",
       "      <td>0.260506</td>\n",
       "      <td>0.295718</td>\n",
       "      <td>0.088838</td>\n",
       "      <td>0.119073</td>\n",
       "      <td>-0.094155</td>\n",
       "      <td>0.359907</td>\n",
       "      <td>0.173408</td>\n",
       "      <td>-0.354700</td>\n",
       "      <td>-0.316695</td>\n",
       "      <td>0.319443</td>\n",
       "    </tr>\n",
       "    <tr>\n",
       "      <th>wheel_base</th>\n",
       "      <td>-0.529145</td>\n",
       "      <td>0.051106</td>\n",
       "      <td>1.000000</td>\n",
       "      <td>0.879005</td>\n",
       "      <td>0.814593</td>\n",
       "      <td>0.583789</td>\n",
       "      <td>0.787584</td>\n",
       "      <td>0.576779</td>\n",
       "      <td>0.483262</td>\n",
       "      <td>0.139134</td>\n",
       "      <td>0.249689</td>\n",
       "      <td>0.378333</td>\n",
       "      <td>-0.361143</td>\n",
       "      <td>-0.480029</td>\n",
       "      <td>-0.552211</td>\n",
       "      <td>0.589147</td>\n",
       "    </tr>\n",
       "    <tr>\n",
       "      <th>length</th>\n",
       "      <td>-0.364511</td>\n",
       "      <td>0.163820</td>\n",
       "      <td>0.879005</td>\n",
       "      <td>1.000000</td>\n",
       "      <td>0.857271</td>\n",
       "      <td>0.492955</td>\n",
       "      <td>0.881058</td>\n",
       "      <td>0.685531</td>\n",
       "      <td>0.594834</td>\n",
       "      <td>0.116862</td>\n",
       "      <td>0.159203</td>\n",
       "      <td>0.574193</td>\n",
       "      <td>-0.288781</td>\n",
       "      <td>-0.667658</td>\n",
       "      <td>-0.700186</td>\n",
       "      <td>0.691044</td>\n",
       "    </tr>\n",
       "    <tr>\n",
       "      <th>width</th>\n",
       "      <td>-0.237262</td>\n",
       "      <td>0.207871</td>\n",
       "      <td>0.814593</td>\n",
       "      <td>0.857271</td>\n",
       "      <td>1.000000</td>\n",
       "      <td>0.300995</td>\n",
       "      <td>0.867720</td>\n",
       "      <td>0.731100</td>\n",
       "      <td>0.540265</td>\n",
       "      <td>0.181655</td>\n",
       "      <td>0.189008</td>\n",
       "      <td>0.611416</td>\n",
       "      <td>-0.248912</td>\n",
       "      <td>-0.638155</td>\n",
       "      <td>-0.684700</td>\n",
       "      <td>0.752795</td>\n",
       "    </tr>\n",
       "    <tr>\n",
       "      <th>height</th>\n",
       "      <td>-0.542261</td>\n",
       "      <td>-0.335627</td>\n",
       "      <td>0.583789</td>\n",
       "      <td>0.492955</td>\n",
       "      <td>0.300995</td>\n",
       "      <td>1.000000</td>\n",
       "      <td>0.310660</td>\n",
       "      <td>0.076255</td>\n",
       "      <td>0.148634</td>\n",
       "      <td>-0.096561</td>\n",
       "      <td>0.259526</td>\n",
       "      <td>-0.081723</td>\n",
       "      <td>-0.312485</td>\n",
       "      <td>-0.057087</td>\n",
       "      <td>-0.111568</td>\n",
       "      <td>0.137284</td>\n",
       "    </tr>\n",
       "    <tr>\n",
       "      <th>curb_weight</th>\n",
       "      <td>-0.234743</td>\n",
       "      <td>0.260506</td>\n",
       "      <td>0.787584</td>\n",
       "      <td>0.881058</td>\n",
       "      <td>0.867720</td>\n",
       "      <td>0.310660</td>\n",
       "      <td>1.000000</td>\n",
       "      <td>0.849090</td>\n",
       "      <td>0.631277</td>\n",
       "      <td>0.165820</td>\n",
       "      <td>0.156444</td>\n",
       "      <td>0.755410</td>\n",
       "      <td>-0.278336</td>\n",
       "      <td>-0.750390</td>\n",
       "      <td>-0.795515</td>\n",
       "      <td>0.834420</td>\n",
       "    </tr>\n",
       "    <tr>\n",
       "      <th>engine_size</th>\n",
       "      <td>-0.112069</td>\n",
       "      <td>0.295718</td>\n",
       "      <td>0.576779</td>\n",
       "      <td>0.685531</td>\n",
       "      <td>0.731100</td>\n",
       "      <td>0.076255</td>\n",
       "      <td>0.849090</td>\n",
       "      <td>1.000000</td>\n",
       "      <td>0.538310</td>\n",
       "      <td>0.195917</td>\n",
       "      <td>0.029005</td>\n",
       "      <td>0.817880</td>\n",
       "      <td>-0.256962</td>\n",
       "      <td>-0.651002</td>\n",
       "      <td>-0.679877</td>\n",
       "      <td>0.872337</td>\n",
       "    </tr>\n",
       "    <tr>\n",
       "      <th>bore</th>\n",
       "      <td>-0.106724</td>\n",
       "      <td>0.088838</td>\n",
       "      <td>0.483262</td>\n",
       "      <td>0.594834</td>\n",
       "      <td>0.540265</td>\n",
       "      <td>0.148634</td>\n",
       "      <td>0.631277</td>\n",
       "      <td>0.538310</td>\n",
       "      <td>1.000000</td>\n",
       "      <td>-0.041049</td>\n",
       "      <td>-0.002119</td>\n",
       "      <td>0.557054</td>\n",
       "      <td>-0.227062</td>\n",
       "      <td>-0.602992</td>\n",
       "      <td>-0.608302</td>\n",
       "      <td>0.536795</td>\n",
       "    </tr>\n",
       "    <tr>\n",
       "      <th>stroke</th>\n",
       "      <td>0.023782</td>\n",
       "      <td>0.119073</td>\n",
       "      <td>0.139134</td>\n",
       "      <td>0.116862</td>\n",
       "      <td>0.181655</td>\n",
       "      <td>-0.096561</td>\n",
       "      <td>0.165820</td>\n",
       "      <td>0.195917</td>\n",
       "      <td>-0.041049</td>\n",
       "      <td>1.000000</td>\n",
       "      <td>0.184679</td>\n",
       "      <td>0.082244</td>\n",
       "      <td>-0.062949</td>\n",
       "      <td>-0.052353</td>\n",
       "      <td>-0.050303</td>\n",
       "      <td>0.082924</td>\n",
       "    </tr>\n",
       "    <tr>\n",
       "      <th>compression_ratio</th>\n",
       "      <td>-0.181073</td>\n",
       "      <td>-0.094155</td>\n",
       "      <td>0.249689</td>\n",
       "      <td>0.159203</td>\n",
       "      <td>0.189008</td>\n",
       "      <td>0.259526</td>\n",
       "      <td>0.156444</td>\n",
       "      <td>0.029005</td>\n",
       "      <td>-0.002119</td>\n",
       "      <td>0.184679</td>\n",
       "      <td>1.000000</td>\n",
       "      <td>-0.209795</td>\n",
       "      <td>-0.432852</td>\n",
       "      <td>0.330897</td>\n",
       "      <td>0.267929</td>\n",
       "      <td>0.071176</td>\n",
       "    </tr>\n",
       "    <tr>\n",
       "      <th>horsepower</th>\n",
       "      <td>0.072979</td>\n",
       "      <td>0.359907</td>\n",
       "      <td>0.378333</td>\n",
       "      <td>0.574193</td>\n",
       "      <td>0.611416</td>\n",
       "      <td>-0.081723</td>\n",
       "      <td>0.755410</td>\n",
       "      <td>0.817880</td>\n",
       "      <td>0.557054</td>\n",
       "      <td>0.082244</td>\n",
       "      <td>-0.209795</td>\n",
       "      <td>1.000000</td>\n",
       "      <td>0.113644</td>\n",
       "      <td>-0.815578</td>\n",
       "      <td>-0.801574</td>\n",
       "      <td>0.810450</td>\n",
       "    </tr>\n",
       "    <tr>\n",
       "      <th>peak_rpm</th>\n",
       "      <td>0.282484</td>\n",
       "      <td>0.173408</td>\n",
       "      <td>-0.361143</td>\n",
       "      <td>-0.288781</td>\n",
       "      <td>-0.248912</td>\n",
       "      <td>-0.312485</td>\n",
       "      <td>-0.278336</td>\n",
       "      <td>-0.256962</td>\n",
       "      <td>-0.227062</td>\n",
       "      <td>-0.062949</td>\n",
       "      <td>-0.432852</td>\n",
       "      <td>0.113644</td>\n",
       "      <td>1.000000</td>\n",
       "      <td>-0.113776</td>\n",
       "      <td>-0.059484</td>\n",
       "      <td>-0.098279</td>\n",
       "    </tr>\n",
       "    <tr>\n",
       "      <th>city_mpg</th>\n",
       "      <td>-0.030158</td>\n",
       "      <td>-0.354700</td>\n",
       "      <td>-0.480029</td>\n",
       "      <td>-0.667658</td>\n",
       "      <td>-0.638155</td>\n",
       "      <td>-0.057087</td>\n",
       "      <td>-0.750390</td>\n",
       "      <td>-0.651002</td>\n",
       "      <td>-0.602992</td>\n",
       "      <td>-0.052353</td>\n",
       "      <td>0.330897</td>\n",
       "      <td>-0.815578</td>\n",
       "      <td>-0.113776</td>\n",
       "      <td>1.000000</td>\n",
       "      <td>0.972024</td>\n",
       "      <td>-0.687186</td>\n",
       "    </tr>\n",
       "    <tr>\n",
       "      <th>highway_mpg</th>\n",
       "      <td>0.041248</td>\n",
       "      <td>-0.316695</td>\n",
       "      <td>-0.552211</td>\n",
       "      <td>-0.700186</td>\n",
       "      <td>-0.684700</td>\n",
       "      <td>-0.111568</td>\n",
       "      <td>-0.795515</td>\n",
       "      <td>-0.679877</td>\n",
       "      <td>-0.608302</td>\n",
       "      <td>-0.050303</td>\n",
       "      <td>0.267929</td>\n",
       "      <td>-0.801574</td>\n",
       "      <td>-0.059484</td>\n",
       "      <td>0.972024</td>\n",
       "      <td>1.000000</td>\n",
       "      <td>-0.705115</td>\n",
       "    </tr>\n",
       "    <tr>\n",
       "      <th>price</th>\n",
       "      <td>-0.083327</td>\n",
       "      <td>0.319443</td>\n",
       "      <td>0.589147</td>\n",
       "      <td>0.691044</td>\n",
       "      <td>0.752795</td>\n",
       "      <td>0.137284</td>\n",
       "      <td>0.834420</td>\n",
       "      <td>0.872337</td>\n",
       "      <td>0.536795</td>\n",
       "      <td>0.082924</td>\n",
       "      <td>0.071176</td>\n",
       "      <td>0.810450</td>\n",
       "      <td>-0.098279</td>\n",
       "      <td>-0.687186</td>\n",
       "      <td>-0.705115</td>\n",
       "      <td>1.000000</td>\n",
       "    </tr>\n",
       "  </tbody>\n",
       "</table>\n",
       "</div>"
      ],
      "text/plain": [
       "                   symboling  normalized_losses  wheel_base    length  \\\n",
       "symboling           1.000000           0.452557   -0.529145 -0.364511   \n",
       "normalized_losses   0.452557           1.000000    0.051106  0.163820   \n",
       "wheel_base         -0.529145           0.051106    1.000000  0.879005   \n",
       "length             -0.364511           0.163820    0.879005  1.000000   \n",
       "width              -0.237262           0.207871    0.814593  0.857271   \n",
       "height             -0.542261          -0.335627    0.583789  0.492955   \n",
       "curb_weight        -0.234743           0.260506    0.787584  0.881058   \n",
       "engine_size        -0.112069           0.295718    0.576779  0.685531   \n",
       "bore               -0.106724           0.088838    0.483262  0.594834   \n",
       "stroke              0.023782           0.119073    0.139134  0.116862   \n",
       "compression_ratio  -0.181073          -0.094155    0.249689  0.159203   \n",
       "horsepower          0.072979           0.359907    0.378333  0.574193   \n",
       "peak_rpm            0.282484           0.173408   -0.361143 -0.288781   \n",
       "city_mpg           -0.030158          -0.354700   -0.480029 -0.667658   \n",
       "highway_mpg         0.041248          -0.316695   -0.552211 -0.700186   \n",
       "price              -0.083327           0.319443    0.589147  0.691044   \n",
       "\n",
       "                      width    height  curb_weight  engine_size      bore  \\\n",
       "symboling         -0.237262 -0.542261    -0.234743    -0.112069 -0.106724   \n",
       "normalized_losses  0.207871 -0.335627     0.260506     0.295718  0.088838   \n",
       "wheel_base         0.814593  0.583789     0.787584     0.576779  0.483262   \n",
       "length             0.857271  0.492955     0.881058     0.685531  0.594834   \n",
       "width              1.000000  0.300995     0.867720     0.731100  0.540265   \n",
       "height             0.300995  1.000000     0.310660     0.076255  0.148634   \n",
       "curb_weight        0.867720  0.310660     1.000000     0.849090  0.631277   \n",
       "engine_size        0.731100  0.076255     0.849090     1.000000  0.538310   \n",
       "bore               0.540265  0.148634     0.631277     0.538310  1.000000   \n",
       "stroke             0.181655 -0.096561     0.165820     0.195917 -0.041049   \n",
       "compression_ratio  0.189008  0.259526     0.156444     0.029005 -0.002119   \n",
       "horsepower         0.611416 -0.081723     0.755410     0.817880  0.557054   \n",
       "peak_rpm          -0.248912 -0.312485    -0.278336    -0.256962 -0.227062   \n",
       "city_mpg          -0.638155 -0.057087    -0.750390    -0.651002 -0.602992   \n",
       "highway_mpg       -0.684700 -0.111568    -0.795515    -0.679877 -0.608302   \n",
       "price              0.752795  0.137284     0.834420     0.872337  0.536795   \n",
       "\n",
       "                     stroke  compression_ratio  horsepower  peak_rpm  \\\n",
       "symboling          0.023782          -0.181073    0.072979  0.282484   \n",
       "normalized_losses  0.119073          -0.094155    0.359907  0.173408   \n",
       "wheel_base         0.139134           0.249689    0.378333 -0.361143   \n",
       "length             0.116862           0.159203    0.574193 -0.288781   \n",
       "width              0.181655           0.189008    0.611416 -0.248912   \n",
       "height            -0.096561           0.259526   -0.081723 -0.312485   \n",
       "curb_weight        0.165820           0.156444    0.755410 -0.278336   \n",
       "engine_size        0.195917           0.029005    0.817880 -0.256962   \n",
       "bore              -0.041049          -0.002119    0.557054 -0.227062   \n",
       "stroke             1.000000           0.184679    0.082244 -0.062949   \n",
       "compression_ratio  0.184679           1.000000   -0.209795 -0.432852   \n",
       "horsepower         0.082244          -0.209795    1.000000  0.113644   \n",
       "peak_rpm          -0.062949          -0.432852    0.113644  1.000000   \n",
       "city_mpg          -0.052353           0.330897   -0.815578 -0.113776   \n",
       "highway_mpg       -0.050303           0.267929   -0.801574 -0.059484   \n",
       "price              0.082924           0.071176    0.810450 -0.098279   \n",
       "\n",
       "                   city_mpg  highway_mpg     price  \n",
       "symboling         -0.030158     0.041248 -0.083327  \n",
       "normalized_losses -0.354700    -0.316695  0.319443  \n",
       "wheel_base        -0.480029    -0.552211  0.589147  \n",
       "length            -0.667658    -0.700186  0.691044  \n",
       "width             -0.638155    -0.684700  0.752795  \n",
       "height            -0.057087    -0.111568  0.137284  \n",
       "curb_weight       -0.750390    -0.795515  0.834420  \n",
       "engine_size       -0.651002    -0.679877  0.872337  \n",
       "bore              -0.602992    -0.608302  0.536795  \n",
       "stroke            -0.052353    -0.050303  0.082924  \n",
       "compression_ratio  0.330897     0.267929  0.071176  \n",
       "horsepower        -0.815578    -0.801574  0.810450  \n",
       "peak_rpm          -0.113776    -0.059484 -0.098279  \n",
       "city_mpg           1.000000     0.972024 -0.687186  \n",
       "highway_mpg        0.972024     1.000000 -0.705115  \n",
       "price             -0.687186    -0.705115  1.000000  "
      ]
     },
     "execution_count": 21,
     "metadata": {},
     "output_type": "execute_result"
    }
   ],
   "source": [
    "data.corr(method='pearson', min_periods=1)"
   ]
  },
  {
   "cell_type": "code",
   "execution_count": 23,
   "metadata": {},
   "outputs": [
    {
     "name": "stderr",
     "output_type": "stream",
     "text": [
      "C:\\Users\\Satish\\Anaconda3\\lib\\site-packages\\matplotlib\\axes\\_axes.py:6462: UserWarning: The 'normed' kwarg is deprecated, and has been replaced by the 'density' kwarg.\n",
      "  warnings.warn(\"The 'normed' kwarg is deprecated, and has been \"\n",
      "C:\\Users\\Satish\\Anaconda3\\lib\\site-packages\\matplotlib\\axes\\_axes.py:6462: UserWarning: The 'normed' kwarg is deprecated, and has been replaced by the 'density' kwarg.\n",
      "  warnings.warn(\"The 'normed' kwarg is deprecated, and has been \"\n"
     ]
    },
    {
     "data": {
      "text/plain": [
       "<seaborn.axisgrid.JointGrid at 0x1f360a5b278>"
      ]
     },
     "execution_count": 23,
     "metadata": {},
     "output_type": "execute_result"
    },
    {
     "data": {
      "image/png": "[encoded data removed]",
      "text/plain": [
       "<Figure size 432x432 with 3 Axes>"
      ]
     },
     "metadata": {},
     "output_type": "display_data"
    }
   ],
   "source": [
    "sns.jointplot( data.city_mpg, data.price )"
   ]
  },
  {
   "cell_type": "code",
   "execution_count": 24,
   "metadata": {},
   "outputs": [],
   "source": [
    "data = data.apply(LabelEncoder().fit_transform)"
   ]
  },
  {
   "cell_type": "code",
   "execution_count": 25,
   "metadata": {},
   "outputs": [],
   "source": [
    "y = data.price"
   ]
  },
  {
   "cell_type": "code",
   "execution_count": 26,
   "metadata": {},
   "outputs": [],
   "source": [
    "X = data.drop(['price'],axis=1)"
   ]
  },
  {
   "cell_type": "code",
   "execution_count": 27,
   "metadata": {},
   "outputs": [],
   "source": [
    "X_train,X_test,y_train,y_test = train_test_split(X,y,test_size=0.3,random_state=100)"
   ]
  },
  {
   "cell_type": "code",
   "execution_count": 28,
   "metadata": {},
   "outputs": [],
   "source": [
    "regressor = LinearRegression()"
   ]
  },
  {
   "cell_type": "code",
   "execution_count": 29,
   "metadata": {},
   "outputs": [],
   "source": [
    "model = regressor.fit(X_train,y_train)"
   ]
  },
  {
   "cell_type": "code",
   "execution_count": 32,
   "metadata": {},
   "outputs": [
    {
     "data": {
      "text/plain": [
       "0.9291104884308157"
      ]
     },
     "execution_count": 32,
     "metadata": {},
     "output_type": "execute_result"
    }
   ],
   "source": [
    "model.score(X_train,y_train)"
   ]
  },
  {
   "cell_type": "code",
   "execution_count": 33,
   "metadata": {},
   "outputs": [
    {
     "data": {
      "text/plain": [
       "0.8789960635011499"
      ]
     },
     "execution_count": 33,
     "metadata": {},
     "output_type": "execute_result"
    }
   ],
   "source": [
    "model.score(X_test,y_test)"
   ]
  },
  {
   "cell_type": "code",
   "execution_count": 34,
   "metadata": {},
   "outputs": [],
   "source": [
    "y_predict = model.predict(X_test)"
   ]
  },
  {
   "cell_type": "code",
   "execution_count": 35,
   "metadata": {},
   "outputs": [
    {
     "data": {
      "text/plain": [
       "array([ -0.18177523,   0.21316493,  -0.80552137, -28.68992494,\n",
       "         2.39488842,  -9.86944765,  -8.65326436,   2.29962211,\n",
       "         7.90122875,   0.1554881 ,   0.47794902,  -0.23900754,\n",
       "         0.12625175,   0.2686688 ,   2.24510179,  -0.5442148 ,\n",
       "         0.26975264,   3.23981581,   0.03909534,  -0.48352353,\n",
       "         0.74638541,   0.71680384,   0.43378804,  -3.7296972 ,\n",
       "         1.71573513])"
      ]
     },
     "execution_count": 35,
     "metadata": {},
     "output_type": "execute_result"
    }
   ],
   "source": [
    "model.coef_"
   ]
  },
  {
   "cell_type": "code",
   "execution_count": 36,
   "metadata": {},
   "outputs": [
    {
     "data": {
      "text/plain": [
       "83.92299286943094"
      ]
     },
     "execution_count": 36,
     "metadata": {},
     "output_type": "execute_result"
    }
   ],
   "source": [
    "model.intercept_"
   ]
  },
  {
   "cell_type": "code",
   "execution_count": 37,
   "metadata": {},
   "outputs": [
    {
     "name": "stdout",
     "output_type": "stream",
     "text": [
      "the mean squared eror: 353.756185 \n"
     ]
    }
   ],
   "source": [
    "print(\"the mean squared eror: %f \"%(mean_squared_error(y_test,y_predict)))"
   ]
  },
  {
   "cell_type": "code",
   "execution_count": 38,
   "metadata": {},
   "outputs": [
    {
     "data": {
      "text/plain": [
       "18.808407289867716"
      ]
     },
     "execution_count": 38,
     "metadata": {},
     "output_type": "execute_result"
    }
   ],
   "source": [
    "np.sqrt(mean_squared_error(y_predict,y_test ))"
   ]
  },
  {
   "cell_type": "code",
   "execution_count": null,
   "metadata": {
    "collapsed": true
   },
   "outputs": [],
   "source": []
  }
 ],
 "metadata": {
  "kernelspec": {
   "display_name": "Python 3",
   "language": "python",
   "name": "python3"
  },
  "language_info": {
   "codemirror_mode": {
    "name": "ipython",
    "version": 3
   },
   "file_extension": ".py",
   "mimetype": "text/x-python",
   "name": "python",
   "nbconvert_exporter": "python",
   "pygments_lexer": "ipython3",
   "version": "3.6.5"
  }
 },
 "nbformat": 4,
 "nbformat_minor": 2
}
